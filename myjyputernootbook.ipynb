{
 "cells": [
  {
   "cell_type": "markdown",
   "id": "a55aa626-2a49-418c-bf00-09a15848c92f",
   "metadata": {},
   "source": [
    "# My Jupyter Notebook on IBM Watson Studio"
   ]
  },
  {
   "cell_type": "markdown",
   "id": "56829b70-3e49-4be9-9bd6-9bb6e1f40e20",
   "metadata": {},
   "source": [
    "**Asthalochan Mohanta** <br>\n",
    "    DATA SCIENTIEST"
   ]
  },
  {
   "cell_type": "markdown",
   "id": "cc846233-5544-479c-928a-65559e54ffba",
   "metadata": {},
   "source": [
    "*I am intrested in Data science because i would like to love contiribute towards afforodable and quality healthcare in future.*"
   ]
  },
  {
   "cell_type": "markdown",
   "id": "06aeb04f-84f1-4729-9747-e25d9c648e33",
   "metadata": {},
   "source": [
    "### The below should print \"Hello World\""
   ]
  },
  {
   "cell_type": "code",
   "execution_count": 4,
   "id": "f8736e84-cb7f-40bd-adcc-5f1df8a11753",
   "metadata": {},
   "outputs": [
    {
     "name": "stdout",
     "output_type": "stream",
     "text": [
      "Hello World\n"
     ]
    }
   ],
   "source": [
    "print(\"Hello World\")"
   ]
  },
  {
   "cell_type": "markdown",
   "id": "5b0667af-7928-4926-86e6-0ce6f8ad34bd",
   "metadata": {},
   "source": [
    "|Name|Address|Salary|\n",
    "|-----|-------|------| \n",
    "|Hanna|Brisbane|4000| \n",
    "|Adam|Sydney|5000|\n",
    "\n",
    "\n",
    ">This is good\n",
    "\n",
    "\n",
    "---\n",
    "\n",
    "\n",
    "<a> href=\"https://www.google.com\" >Link to Google</a>"
   ]
  }
 ],
 "metadata": {
  "kernelspec": {
   "display_name": "Python",
   "language": "python",
   "name": "conda-env-python-py"
  },
  "language_info": {
   "codemirror_mode": {
    "name": "ipython",
    "version": 3
   },
   "file_extension": ".py",
   "mimetype": "text/x-python",
   "name": "python",
   "nbconvert_exporter": "python",
   "pygments_lexer": "ipython3",
   "version": "3.7.12"
  }
 },
 "nbformat": 4,
 "nbformat_minor": 5
}
